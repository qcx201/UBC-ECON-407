{
 "cells": [
  {
   "cell_type": "code",
   "execution_count": 1,
   "metadata": {},
   "outputs": [],
   "source": [
    "import numpy as np\n",
    "import matplotlib.pyplot as plt\n",
    "\n",
    "%matplotlib inline"
   ]
  },
  {
   "cell_type": "code",
   "execution_count": null,
   "metadata": {},
   "outputs": [],
   "source": [
    "# marginal utility and capital\n",
    "\n",
    "def u_prime(c, γ=1.5):\n",
    "    '''\n",
    "    Utility function\n",
    "    '''\n",
    "    res = c**-γ\n",
    "    \n",
    "    # for nan values\n",
    "    res[np.isnan(res)] = 0\n",
    "    \n",
    "    return res\n",
    "\n",
    "\n",
    "for i, y in enumerate(y_grid):\n",
    "    \n",
    "    fig, (ax1, ax2) = plt.subplots(1, 2, figsize=(12, 4), sharex=True)\n",
    "    \n",
    "    fig.suptitle(f'$y_t = {y}$')\n",
    "\n",
    "    # utility\n",
    "    ax1.plot(k_grid_1, u(consumption_1[i]), label='$a_t \\geq 0.01$',\n",
    "             c=colors[0], alpha=0.6, lw=3)\n",
    "    ax1.plot(k_grid_2, u(consumption_2[i]), label='$a_t \\geq 2.0$',\n",
    "             c=colors[1], alpha=0.6, lw=3)\n",
    "\n",
    "    ax1.set_title('Utility')\n",
    "    ax1.set_xlabel('$a_t$')\n",
    "    ax1.set_ylabel('$u(c_t)$')\n",
    "    ax1.legend()\n",
    "    \n",
    "    # marginal utility\n",
    "    ax2.plot(k_grid_1, u_prime(consumption_1[i]), label='$a_t \\geq 0.01$',\n",
    "             c=colors[0],  alpha=0.6, lw=3)\n",
    "    ax2.plot(k_grid_2, u_prime(consumption_2[i]), label='$a_t \\geq 2.0$',\n",
    "             c=colors[1],  alpha=0.6, lw=3)\n",
    "\n",
    "    ax2.set_title('Marginal Utility')\n",
    "    ax2.set_xlabel('$a_t$')\n",
    "    ax2.set_ylabel('$u\\'(c_t)$')\n",
    "    ax2.legend()\n",
    "\n",
    "    plt.show()"
   ]
  },
  {
   "cell_type": "code",
   "execution_count": 6,
   "metadata": {},
   "outputs": [],
   "source": [
    "β = 0.96\n",
    "y_grid = np.array([1.5, 1, 0.5])\n",
    "n = len(y_grid)\n",
    "\n",
    "π = np.array([\n",
    "    [0.5, 0.25, 0.25],\n",
    "    [0.25, 0.5, 0.25],\n",
    "    [0.25, 0.25, 0.5]\n",
    "])\n"
   ]
  },
  {
   "cell_type": "code",
   "execution_count": 48,
   "metadata": {},
   "outputs": [
    {
     "name": "stdout",
     "output_type": "stream",
     "text": [
      "[[1.         1.5        3.        ]\n",
      " [0.66666667 1.         2.        ]\n",
      " [0.33333333 0.5        1.        ]]\n"
     ]
    }
   ],
   "source": [
    "# stochastic discount factor\n",
    "\n",
    "m = np.zeros((n, n))\n",
    "\n",
    "for i in range(n):\n",
    "    for j in range(n):\n",
    "        \n",
    "        # m[c, c'] = u'(c)/u'(c')\n",
    "        m[i, j] = y_grid[i] / y_grid[j] # derivative of ln(x) = 1/x\n",
    "        \n",
    "print(m)"
   ]
  },
  {
   "cell_type": "code",
   "execution_count": 49,
   "metadata": {},
   "outputs": [
    {
     "name": "stdout",
     "output_type": "stream",
     "text": [
      "Convergence after 573 periods\n"
     ]
    }
   ],
   "source": [
    "T = 1000\n",
    "P = np.zeros((T, n))\n",
    "\n",
    "for i in range(T-1):\n",
    "    \n",
    "    for j in range(n):\n",
    "        \n",
    "        # β*E[m(P' + y')]\n",
    "        P[i + 1, j] = β * np.dot(π[j], m[j] * (y_grid + P[i]))\n",
    "    \n",
    "    # convergence\n",
    "    if np.max(np.abs(P[i + 1, :] - P[i, :])) < 1e-10:\n",
    "        print(f\"Convergence after {i} periods\")\n",
    "        P_converge = P[i]\n",
    "        break"
   ]
  },
  {
   "cell_type": "code",
   "execution_count": 50,
   "metadata": {},
   "outputs": [
    {
     "data": {
      "text/plain": [
       "array([36., 24., 12.])"
      ]
     },
     "execution_count": 50,
     "metadata": {},
     "output_type": "execute_result"
    }
   ],
   "source": [
    "P_converge"
   ]
  },
  {
   "cell_type": "code",
   "execution_count": 51,
   "metadata": {},
   "outputs": [
    {
     "data": {
      "text/plain": [
       "array([36., 24., 12.])"
      ]
     },
     "execution_count": 51,
     "metadata": {},
     "output_type": "execute_result"
    }
   ],
   "source": [
    "coeff = np.eye(n) - β * π * m\n",
    "RHS = β * np.dot(π * m, y_grid)\n",
    "np.linalg.solve(coeff, RHS)"
   ]
  },
  {
   "cell_type": "code",
   "execution_count": 62,
   "metadata": {},
   "outputs": [],
   "source": [
    "def asset_price(β, y_grid, π, γ):\n",
    "    \n",
    "    n = len(y_grid)\n",
    "    \n",
    "    m = np.zeros((n, n))\n",
    "\n",
    "    for i in range(n):\n",
    "        for j in range(n):\n",
    "\n",
    "            # m = (u'(c')/u'(c))^-γ\n",
    "            m[i, j] = (y_grid[j] / y_grid[i]) ** -γ # derivative of ln(x) = 1/x\n",
    "\n",
    "    \n",
    "    P = np.zeros(n)\n",
    "\n",
    "    i = 0\n",
    "    while True:\n",
    "\n",
    "        P_prime = P.copy()\n",
    "\n",
    "        for j in range(n):\n",
    "\n",
    "            # β * E[m * (P' + y')]\n",
    "            P[j] = β * np.dot(π[j], m[j] * (y_grid + P_prime))\n",
    "\n",
    "        i += 1\n",
    "        # check convergence\n",
    "        if all(P == P_prime):\n",
    "            \n",
    "            print(f\"Convergence after {i} periods\")\n",
    "            \n",
    "            return P"
   ]
  },
  {
   "cell_type": "code",
   "execution_count": 65,
   "metadata": {},
   "outputs": [
    {
     "name": "stdout",
     "output_type": "stream",
     "text": [
      "Convergence after 829 periods\n",
      "[36. 24. 12.]\n",
      "Convergence after 825 periods\n",
      "[65.60526316 29.26315789  7.39473684]\n"
     ]
    }
   ],
   "source": [
    "print(asset_price(β, y_grid, π, 1))\n",
    "print(asset_price(β, y_grid, π, 2))"
   ]
  },
  {
   "cell_type": "code",
   "execution_count": 67,
   "metadata": {},
   "outputs": [
    {
     "name": "stdout",
     "output_type": "stream",
     "text": [
      "Convergence after 820 periods\n",
      "[36. 24. 12.]\n",
      "Convergence after 817 periods\n",
      "[64.60169492 29.08474576  7.55084746]\n"
     ]
    }
   ],
   "source": [
    "π_new = np.array([[0.7, 0.15, 0.15], [0.15, 0.7, 0.15], [0.15, 0.15, 0.7]])\n",
    "\n",
    "print(asset_price(β, y_grid, π_new, 1))\n",
    "print(asset_price(β, y_grid, π_new, 2))"
   ]
  },
  {
   "cell_type": "code",
   "execution_count": 68,
   "metadata": {},
   "outputs": [
    {
     "name": "stdout",
     "output_type": "stream",
     "text": [
      "Convergence after 817 periods\n",
      "[43.2 24.   4.8]\n",
      "Convergence after 810 periods\n",
      "[164.01355932  51.11864407   2.22372881]\n"
     ]
    }
   ],
   "source": [
    "y_grid_new = [1.8, 1.0, 0.2]\n",
    "\n",
    "print(asset_price(β, y_grid_new, π_new, 1))\n",
    "print(asset_price(β, y_grid_new, π_new, 2))"
   ]
  }
 ],
 "metadata": {
  "kernelspec": {
   "display_name": "Python 3",
   "language": "python",
   "name": "python3"
  },
  "language_info": {
   "codemirror_mode": {
    "name": "ipython",
    "version": 3
   },
   "file_extension": ".py",
   "mimetype": "text/x-python",
   "name": "python",
   "nbconvert_exporter": "python",
   "pygments_lexer": "ipython3",
   "version": "3.8.5"
  }
 },
 "nbformat": 4,
 "nbformat_minor": 4
}
