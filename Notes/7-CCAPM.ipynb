{
 "cells": [
  {
   "cell_type": "markdown",
   "metadata": {},
   "source": [
    "# CCAPM Pricing Example\n",
    "\n",
    "Last update: Nov 9th, 2020"
   ]
  },
  {
   "cell_type": "code",
   "execution_count": 1,
   "metadata": {},
   "outputs": [],
   "source": [
    "import numpy as np\n",
    "import matplotlib.pyplot as plt\n",
    "%matplotlib inline"
   ]
  },
  {
   "cell_type": "markdown",
   "metadata": {},
   "source": [
    "Consider the following example with $u\\left(c\\right)=\\ln\\left(c\\right), \\beta=0.96, y=\\left[1.5,1,0.5\\right]$ with a transition matrix\n",
    "$$\n",
    "\\Pi=\\left[\\begin{array}{ccc}\n",
    "0.5 & 0.25 & 0.25\\\\\n",
    "0.25 & 0.5 & 0.25\\\\\n",
    "0.25 & 0.25 & 0.5\n",
    "\\end{array}\\right]\n",
    "$$"
   ]
  },
  {
   "cell_type": "code",
   "execution_count": 2,
   "metadata": {},
   "outputs": [],
   "source": [
    "n = 3\n",
    "y_grid = np.array([1.5, 1, 0.5])\n",
    "Pi = np.array([[0.5, 0.25, 0.25], [0.25, 0.5, 0.25], [0.25, 0.25, 0.5]])\n",
    "beta = 0.96"
   ]
  },
  {
   "cell_type": "code",
   "execution_count": 3,
   "metadata": {},
   "outputs": [
    {
     "name": "stdout",
     "output_type": "stream",
     "text": [
      "[[0.96 1.44 2.88]\n",
      " [0.64 0.96 1.92]\n",
      " [0.32 0.48 0.96]]\n"
     ]
    }
   ],
   "source": [
    "# Compute the SDF\n",
    "\n",
    "m = np.zeros((n, n))\n",
    "for i in range(n):\n",
    "    for j in range(n):\n",
    "        m[i, j] = beta * y_grid[i] / y_grid[j] # the derivative of ln(x) is 1/x\n",
    "        \n",
    "# Print SDF\n",
    "print(m)"
   ]
  },
  {
   "cell_type": "code",
   "execution_count": 4,
   "metadata": {},
   "outputs": [
    {
     "name": "stdout",
     "output_type": "stream",
     "text": [
      "[[0.96       2.16       8.64      ]\n",
      " [0.42666667 0.96       3.84      ]\n",
      " [0.10666667 0.24       0.96      ]]\n"
     ]
    }
   ],
   "source": [
    "m = np.zeros((n, n))\n",
    "for i in range(n):\n",
    "    for j in range(n):\n",
    "        m[i, j] = beta * ((y_grid[j] / y_grid[i]) ** -2) # the derivative of ln(x) is 1/x\n",
    "        \n",
    "# Print SDF\n",
    "print(m)"
   ]
  },
  {
   "cell_type": "code",
   "execution_count": 5,
   "metadata": {},
   "outputs": [
    {
     "name": "stdout",
     "output_type": "stream",
     "text": [
      "Convergence happens after 588 periods\n",
      "[65.60526316 29.26315789  7.39473684]\n"
     ]
    }
   ],
   "source": [
    "# Start the iteration\n",
    "\n",
    "T = 1000\n",
    "P = np.zeros((T, n))\n",
    "\n",
    "for i in range(T - 1):\n",
    "    for j in range(n):\n",
    "        P[i + 1, j] = np.dot(Pi[j, :], m[j, :] * (y_grid + P[i, :]))\n",
    "    if np.max(np.abs(P[i + 1, :] - P[i, :])) < 1e-10:\n",
    "        print(f\"Convergence happens after {i} periods\")\n",
    "        break\n",
    "\n",
    "# Print the prices\n",
    "print(P[i + 1, :])"
   ]
  },
  {
   "cell_type": "markdown",
   "metadata": {},
   "source": [
    "Alternatively, we can solve the equation system to see whether our solution is correct."
   ]
  },
  {
   "cell_type": "code",
   "execution_count": 6,
   "metadata": {},
   "outputs": [
    {
     "data": {
      "text/plain": [
       "array([65.60526316, 29.26315789,  7.39473684])"
      ]
     },
     "execution_count": 6,
     "metadata": {},
     "output_type": "execute_result"
    }
   ],
   "source": [
    "coeff = np.eye(n) - Pi * m\n",
    "RHS = np.dot(Pi * m, y_grid)\n",
    "np.linalg.solve(coeff, RHS)"
   ]
  },
  {
   "cell_type": "markdown",
   "metadata": {},
   "source": [
    "Hence it seems that our solution is correct.\n",
    "\n",
    "Now we wrap it into a function and carry out some comparative statics."
   ]
  },
  {
   "cell_type": "code",
   "execution_count": 11,
   "metadata": {},
   "outputs": [],
   "source": [
    "def asset_price(beta, y_grid, Pi, gamma):\n",
    "    n = len(y_grid)\n",
    "    m = np.zeros((n, n))\n",
    "    for i in range(n):\n",
    "        for j in range(n):\n",
    "            m[i, j] = (y_grid[j] / y_grid[i]) ** (-gamma)\n",
    "    \n",
    "    T = 100000\n",
    "    P = np.zeros((T, n))\n",
    "\n",
    "    for i in range(T - 1):\n",
    "        for j in range(n):\n",
    "            P[i + 1, j] = beta * np.dot(Pi[j, :], m[j, :] * (y_grid + P[i, :]))\n",
    "        if np.max(np.abs(P[i + 1, :] - P[i, :])) < 1e-10:\n",
    "            print(f\"Convergence happens after {i} periods\")\n",
    "            break\n",
    "    \n",
    "    return P[i + 1, :], beta*m"
   ]
  },
  {
   "cell_type": "code",
   "execution_count": 13,
   "metadata": {},
   "outputs": [
    {
     "name": "stdout",
     "output_type": "stream",
     "text": [
      "Convergence happens after 573 periods\n",
      "Convergence happens after 580 periods\n",
      "Convergence happens after 588 periods\n",
      "Convergence happens after 573 periods\n",
      "Convergence happens after 580 periods\n",
      "Convergence happens after 588 periods\n"
     ]
    }
   ],
   "source": [
    "P_grid = [asset_price(beta, y_grid, Pi, gamma)[0] for gamma in [1, 1.5, 2]]\n",
    "m_grid = [asset_price(beta, y_grid, Pi, gamma)[1] for gamma in [1, 1.5, 2]]"
   ]
  },
  {
   "cell_type": "code",
   "execution_count": 14,
   "metadata": {},
   "outputs": [
    {
     "data": {
      "text/plain": [
       "[array([36., 24., 12.]),\n",
       " array([47.33047514, 25.82139587,  9.17548836]),\n",
       " array([65.60526316, 29.26315789,  7.39473684])]"
      ]
     },
     "execution_count": 14,
     "metadata": {},
     "output_type": "execute_result"
    }
   ],
   "source": [
    "P_grid"
   ]
  },
  {
   "cell_type": "code",
   "execution_count": 15,
   "metadata": {},
   "outputs": [
    {
     "data": {
      "text/plain": [
       "[array([[0.96, 1.44, 2.88],\n",
       "        [0.64, 0.96, 1.92],\n",
       "        [0.32, 0.48, 0.96]]),\n",
       " array([[0.96      , 1.76363261, 4.98830633],\n",
       "        [0.52255781, 0.96      , 2.71529004],\n",
       "        [0.18475209, 0.33941125, 0.96      ]]),\n",
       " array([[0.96      , 2.16      , 8.64      ],\n",
       "        [0.42666667, 0.96      , 3.84      ],\n",
       "        [0.10666667, 0.24      , 0.96      ]])]"
      ]
     },
     "execution_count": 15,
     "metadata": {},
     "output_type": "execute_result"
    }
   ],
   "source": [
    "m_grid"
   ]
  },
  {
   "cell_type": "markdown",
   "metadata": {},
   "source": [
    "Let's first try a set of $y$ grid that is less volatile than the previous example."
   ]
  },
  {
   "cell_type": "code",
   "execution_count": 9,
   "metadata": {},
   "outputs": [
    {
     "name": "stdout",
     "output_type": "stream",
     "text": [
      "Convergence happens after 573 periods\n",
      "(array([36., 24., 12.]), array([[1.        , 1.5       , 3.        ],\n",
      "       [0.66666667, 1.        , 2.        ],\n",
      "       [0.33333333, 0.5       , 1.        ]]))\n",
      "Convergence happens after 588 periods\n",
      "(array([64.60169491, 29.08474576,  7.55084746]), array([[1.        , 2.25      , 9.        ],\n",
      "       [0.44444444, 1.        , 4.        ],\n",
      "       [0.11111111, 0.25      , 1.        ]]))\n"
     ]
    }
   ],
   "source": [
    "Pi_new = np.array([[0.7, 0.15, 0.15], [0.15, 0.7, 0.15], [0.15, 0.15, 0.7]])\n",
    "\n",
    "print(asset_price(beta, y_grid, Pi_new, 1))\n",
    "print(asset_price(beta, y_grid, Pi_new, 2))"
   ]
  },
  {
   "cell_type": "code",
   "execution_count": 10,
   "metadata": {},
   "outputs": [
    {
     "name": "stdout",
     "output_type": "stream",
     "text": [
      "Convergence happens after 578 periods\n",
      "(array([43.2, 24. ,  4.8]), array([[1.        , 1.8       , 9.        ],\n",
      "       [0.55555556, 1.        , 5.        ],\n",
      "       [0.11111111, 0.2       , 1.        ]]))\n",
      "Convergence happens after 611 periods\n",
      "(array([168.25263158,  52.07017544,   2.13333333]), array([[1.00000000e+00, 3.24000000e+00, 8.10000000e+01],\n",
      "       [3.08641975e-01, 1.00000000e+00, 2.50000000e+01],\n",
      "       [1.23456790e-02, 4.00000000e-02, 1.00000000e+00]]))\n"
     ]
    }
   ],
   "source": [
    "y_grid_new = [1.8, 1.0, 0.2]\n",
    "\n",
    "print(asset_price(beta, y_grid_new, Pi, 1))\n",
    "print(asset_price(beta, y_grid_new, Pi, 2))"
   ]
  }
 ],
 "metadata": {
  "kernelspec": {
   "display_name": "Python 3",
   "language": "python",
   "name": "python3"
  },
  "language_info": {
   "codemirror_mode": {
    "name": "ipython",
    "version": 3
   },
   "file_extension": ".py",
   "mimetype": "text/x-python",
   "name": "python",
   "nbconvert_exporter": "python",
   "pygments_lexer": "ipython3",
   "version": "3.8.5"
  }
 },
 "nbformat": 4,
 "nbformat_minor": 4
}
