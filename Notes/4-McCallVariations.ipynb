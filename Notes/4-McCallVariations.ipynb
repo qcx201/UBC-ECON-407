{
 "cells": [
  {
   "cell_type": "markdown",
   "metadata": {},
   "source": [
    "# Variations of McCall Model\n",
    "\n",
    "Last update: Oct 15th, 2020"
   ]
  },
  {
   "cell_type": "code",
   "execution_count": 10,
   "metadata": {},
   "outputs": [],
   "source": [
    "import numpy as np\n",
    "import matplotlib.pyplot as plt\n",
    "import scipy.stats as stats\n",
    "%matplotlib inline"
   ]
  },
  {
   "cell_type": "markdown",
   "metadata": {},
   "source": [
    "## 1. Correlated Wage Offers\n",
    "\n",
    "We start with the original McCall Model. Instead of assuming i.i.d. wage offers (and put a probability distribution on them), we assume that the wage offers are correlated. Suppose the transition probabilities of the states follow a Markov chain\n",
    "\n",
    "$$\n",
    "P = \\left[\\begin{array}{ccccc}\n",
    "\\rho & 1-\\rho\\\\\n",
    " & \\frac{1-\\rho}{2} & \\rho & \\frac{1-\\rho}{2}\\\\\n",
    "\\\\\n",
    "\\\\\n",
    " &  &  & 1-\\rho & \\rho\n",
    "\\end{array}\\right]\n",
    "$$\n",
    "\n",
    "How to formulate the value function?"
   ]
  },
  {
   "cell_type": "code",
   "execution_count": 2,
   "metadata": {},
   "outputs": [],
   "source": [
    "import numpy as np"
   ]
  },
  {
   "cell_type": "code",
   "execution_count": 3,
   "metadata": {},
   "outputs": [],
   "source": [
    "# Preparations\n",
    "n = 51\n",
    "w_min, w_max = 10, 60\n",
    "w_default = np.linspace(w_min, w_max, n)"
   ]
  },
  {
   "cell_type": "code",
   "execution_count": 6,
   "metadata": {},
   "outputs": [],
   "source": [
    "c = 25       # Unemployment benefit\n",
    "beta = 0.99  # Discount factor\n",
    "rho = 0.8    # Persistence of wage offer"
   ]
  },
  {
   "cell_type": "code",
   "execution_count": 7,
   "metadata": {},
   "outputs": [],
   "source": [
    "# Construct Markov chain\n",
    "P = np.zeros((n, n))\n",
    "for i in range(n):\n",
    "    P[i, i] = rho\n",
    "    if (i == 0):\n",
    "        P[i, i + 1] = 1 - rho\n",
    "    elif (i == (n - 1)):\n",
    "        P[i, i - 1] = 1 - rho\n",
    "    else:\n",
    "        P[i, i - 1] = (1 - rho) / 2\n",
    "        P[i, i + 1] = (1 - rho) / 2"
   ]
  },
  {
   "cell_type": "code",
   "execution_count": null,
   "metadata": {},
   "outputs": [],
   "source": []
  },
  {
   "cell_type": "markdown",
   "metadata": {},
   "source": [
    "## 2. On-the-job Search\n",
    "\n",
    "Assume the currently unemployed agents will still receive a wage for free. However, for currently employed agents, they can choose to pay a cost $s$ to draw a wage offer again at the beginning of every period. They can choose to stay on their current job, or switch to the new job they find."
   ]
  },
  {
   "cell_type": "code",
   "execution_count": 11,
   "metadata": {},
   "outputs": [],
   "source": [
    "# Preparations and parameterization\n",
    "n, a, b = 51, 200, 100                        # default parameters\n",
    "q_default = stats.betabinom(n, a, b).pmf      # probability mass function"
   ]
  },
  {
   "cell_type": "code",
   "execution_count": 12,
   "metadata": {},
   "outputs": [],
   "source": [
    "w_min, w_max = 10, 60\n",
    "w_default = np.linspace(w_min, w_max, n)\n",
    "q_grid = q_default(w_default)"
   ]
  },
  {
   "cell_type": "code",
   "execution_count": 13,
   "metadata": {},
   "outputs": [
    {
     "data": {
      "image/png": "[encoded data removed]",
      "text/plain": [
       "<Figure size 432x288 with 1 Axes>"
      ]
     },
     "metadata": {
      "needs_background": "light"
     },
     "output_type": "display_data"
    }
   ],
   "source": [
    "fig, ax = plt.subplots()\n",
    "ax.plot(w_default, q_grid, '-o')\n",
    "ax.set_xlabel('wages')\n",
    "ax.set_ylabel('probabilities')\n",
    "\n",
    "plt.show()"
   ]
  },
  {
   "cell_type": "code",
   "execution_count": 14,
   "metadata": {},
   "outputs": [],
   "source": [
    "c = 25       # Unemployment benefit\n",
    "beta = 0.99  # Discount factor\n",
    "s = 40       # On-the-job search cost"
   ]
  },
  {
   "cell_type": "code",
   "execution_count": null,
   "metadata": {},
   "outputs": [],
   "source": []
  }
 ],
 "metadata": {
  "kernelspec": {
   "display_name": "Python 3",
   "language": "python",
   "name": "python3"
  },
  "language_info": {
   "codemirror_mode": {
    "name": "ipython",
    "version": 3
   },
   "file_extension": ".py",
   "mimetype": "text/x-python",
   "name": "python",
   "nbconvert_exporter": "python",
   "pygments_lexer": "ipython3",
   "version": "3.8.5"
  }
 },
 "nbformat": 4,
 "nbformat_minor": 4
}
