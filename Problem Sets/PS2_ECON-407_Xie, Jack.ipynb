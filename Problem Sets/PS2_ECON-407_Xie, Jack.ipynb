{
 "cells": [
  {
   "cell_type": "markdown",
   "metadata": {},
   "source": [
    "# ECON 407: Problem Set 2\n",
    "<b>Professor Peifan Wu</b>\n",
    "\n",
    "<b>Jack (Quan Cheng) Xie</b> <br>\n",
    "Student #: 31091325\n",
    "\n",
    "October 14, 2020\n",
    "\n",
    "---"
   ]
  },
  {
   "cell_type": "markdown",
   "metadata": {},
   "source": [
    "# Problem Set 2\n",
    "\n",
    "Note: since all of you guys are using Python and Jupyter notebook, this problem set is to get yourselves more familiar with Python programming."
   ]
  },
  {
   "cell_type": "markdown",
   "metadata": {},
   "source": [
    "## Q1: Net Present Value\n",
    "\n",
    "If an asset pays a stream of payoffs over multiple time periods, then we\n",
    "can use a discount rate to calculate the value to the consumer of a entire\n",
    "sequence of payoffs.\n",
    "\n",
    "Most generally, we enumerate each discrete time period (e.g. year, month, day) by\n",
    "the index $ t $ where today is $ t=0 $ and the asset lives for $ T $\n",
    "periods, or infinite periods.\n",
    "\n",
    "List the payoff at each time period as $ y_t $,  which we will assume, for\n",
    "now, is known in advance.\n",
    "\n",
    "Then if the discount factor is $ r \\geq 0 $, the consumer “values” the\n",
    "payoff $ y_t $ delivered at time $ t $ as $ \\frac{1}{(1+r)^t}y_t $\n",
    "where we note that if $ t=0 $, the value is just the current payoff\n",
    "$ y_0 $.\n",
    "\n",
    "Using this logic, we can write an expression for the value of the entire\n",
    "sequence of payoffs with a sum.\n",
    "\n",
    "\n",
    "$$\n",
    "P_0 = \\sum_{t=0}^T \\left(\\frac{1}{1 + r}\\right)^t y_t\n",
    "$$\n",
    "\n",
    "For the rest of the example, we assume $r=0.01$."
   ]
  },
  {
   "cell_type": "code",
   "execution_count": 1,
   "metadata": {},
   "outputs": [],
   "source": [
    "r = 0.01 # discount rate\n",
    "\n",
    "# bold string when print\n",
    "bf = lambda string: '\\033[1m'+string+'\\033[0m'"
   ]
  },
  {
   "cell_type": "markdown",
   "metadata": {},
   "source": [
    "### Q1.1\n",
    "Suppose we have a stock that distributes 1 dollar dividend for every 3 periods (0, 3, 6, 9, ...) up to $T=500$, what's the NPV of it?"
   ]
  },
  {
   "cell_type": "code",
   "execution_count": 2,
   "metadata": {},
   "outputs": [],
   "source": [
    "y_t = 1 # dividend payments\n",
    "T = 500 # periods\n",
    "\n",
    "δ = 1 # initialize discount factor\n",
    "npv = 0 # initialize NPV\n",
    "\n",
    "for t in range(T+1):\n",
    "    \n",
    "    if t%3 == 0: # payoff only every 3 seonds, starting from t=0\n",
    "        npv += δ*y_t # add term to NPV\n",
    "    \n",
    "    δ *= (1 / (1+r)) # update discount factor\n",
    "    \n",
    "print(bf(f\"NPV = {npv:.2f}.\"))"
   ]
  },
  {
   "cell_type": "markdown",
   "metadata": {},
   "source": [
    "### Q1.2\n",
    "Suppose we have a stock that distributes 1 dollar dividend for every even period (0, 2, 4, 6, ...) and distributes 0.8 dollar dividend for every odd period (1, 3, 5, 7, ...) up to $T=500$, what's the NPV of it?"
   ]
  },
  {
   "cell_type": "code",
   "execution_count": 3,
   "metadata": {},
   "outputs": [],
   "source": [
    "y_0, y_1 = 1, 0.8 # dividend payments\n",
    "T = 500 # periods\n",
    "\n",
    "δ = 1 # initialize discount factor\n",
    "npv = 0 # initialize NPV\n",
    "\n",
    "for t in range(T+1):\n",
    "    \n",
    "    if t%2 == 0: # even seconds\n",
    "        npv += δ*y_0 # add discounted payoff\n",
    "    \n",
    "    else: # odd seconds\n",
    "        npv += δ*y_1 # add discounted payoff\n",
    "        \n",
    "    δ *= (1 / (1+r)) # update discount factor\n",
    "    \n",
    "print(bf(f\"NPV = {npv:.2f}.\"))"
   ]
  },
  {
   "cell_type": "markdown",
   "metadata": {},
   "source": [
    "### Q1.3\n",
    "Suppose there's an investment possibility. We can choose 1) to invest 5 dollar for all $t=0,1,\\ldots,100$, and receive 1 dollar for all $t = 101, 102, \\ldots, 500$, or 2) just walk away. Which option should we choose? Should we take this opportunity?"
   ]
  },
  {
   "cell_type": "code",
   "execution_count": 4,
   "metadata": {},
   "outputs": [],
   "source": [
    "y_0, y_1 = 5, 1 # dividend payments\n",
    "T = 500 # periods\n",
    "\n",
    "δ = 1 # initialize discount factor\n",
    "npv = 0 # initialize NPV\n",
    "\n",
    "for t in range(T+1):\n",
    "    \n",
    "    if t<=100: # first 100 seconds\n",
    "        npv -= δ*y_0 # discounted investment\n",
    "    \n",
    "    else: # odd seconds\n",
    "        npv += δ*y_1 # discounted payoff\n",
    "        \n",
    "    δ *= (1 / (1+r)) # update discount factor\n",
    "    \n",
    "print(bf(f\"NPV = {npv:.2f}.\"))\n",
    "\n",
    "if npv < 0:\n",
    "    print('Negative NPV. Better to walk away 🚶‍♂️..')\n",
    "elif npv > 0:\n",
    "    print('Positive NPV. We should invest 🤑')\n",
    "else:\n",
    "    print('Zero NPV. Indifferent to investing 🤷‍♂️')"
   ]
  },
  {
   "cell_type": "markdown",
   "metadata": {},
   "source": [
    "### Q1.4\n",
    "Suppose we have a stock that distribute some dividend that geometrically decay with $\\delta = 0.8$, i.e., it pays back 1 dollar at period 0, 0.8 dollar at period 1, 0.64 dollar at period 2, ... up to $T=500$, what's the NPV?"
   ]
  },
  {
   "cell_type": "code",
   "execution_count": 5,
   "metadata": {},
   "outputs": [],
   "source": [
    "T = 500 # periods\n",
    "\n",
    "δ = 1 # initialize discount factor\n",
    "npv = 0 # initialize NPV\n",
    "\n",
    "for t in range(T+1):\n",
    "    \n",
    "    npv += δ # add discounted payoff\n",
    "    \n",
    "    δ *= 0.8 # update discount factor\n",
    "    \n",
    "print(bf(f\"NPV = {npv:.2f}.\"))"
   ]
  },
  {
   "cell_type": "markdown",
   "metadata": {},
   "source": [
    "## Q2: Transition Dynamics of a Markov Process\n",
    "We continue what we did in PS1, and think about a sudden, permanent change in the transition matrix. This can be treated as an exogenous policy change from the government.\n",
    "\n",
    "The Markov matrix that we had in PS1 was\n",
    "\n",
    "$$\n",
    "P_1 = \\left(\\begin{array}{ccc}\n",
    "1-\\alpha-\\beta & \\alpha & \\beta\\\\\n",
    "\\gamma & 1-\\gamma & 0\\\\\n",
    "\\delta & \\epsilon & 1-\\delta-\\epsilon\n",
    "\\end{array}\\right)\n",
    "$$\n",
    "\n",
    "where $\\alpha = 0.4, \\beta = 0.1, \\gamma = 0.2, \\delta = 0.1, \\epsilon = 0.001$. Now, we consider a government policy that's going to provide some funding for free job training classes, hence the probability that Unemployed become Employed would increase to $\\alpha = 0.5$. However, to finance this policy, the government have to increase the tax rate of the firms, which increases job firing, and the probability that Employed guys become Unemployed is now $\\gamma = 0.3$."
   ]
  },
  {
   "cell_type": "markdown",
   "metadata": {},
   "source": [
    "### Q2.1\n",
    "Formulate the new transition matrix $P_2$ after the policy change."
   ]
  },
  {
   "cell_type": "code",
   "execution_count": 6,
   "metadata": {},
   "outputs": [],
   "source": [
    "import numpy as np"
   ]
  },
  {
   "cell_type": "code",
   "execution_count": 7,
   "metadata": {},
   "outputs": [
    {
     "name": "stdout",
     "output_type": "stream",
     "text": [
      "\u001b[1mP_2:\u001b[0m\n",
      "[[0.4   0.5   0.1  ]\n",
      " [0.3   0.7   0.   ]\n",
      " [0.1   0.001 0.899]]\n"
     ]
    }
   ],
   "source": [
    "α = 0.5 # changed from 0.4\n",
    "β = 0.1\n",
    "γ = 0.3 # changed from 0.2\n",
    "δ = 0.1\n",
    "ϵ = 0.001\n",
    "\n",
    "# new transition patrix\n",
    "P_2 = np.array([\n",
    "    [1-α-β, α, β],\n",
    "    [γ, 1-γ, 0],\n",
    "    [δ, ϵ , 1-δ-ϵ]\n",
    "])\n",
    "\n",
    "print(bf('P_2:'))\n",
    "print(P_2)"
   ]
  },
  {
   "cell_type": "markdown",
   "metadata": {},
   "source": [
    "### Q2.2\n",
    "Compute the old stationary distribution and the new stationary distribution, denoted as $\\psi_{1}$ and $\\psi_{2}$. What do you find?"
   ]
  },
  {
   "cell_type": "code",
   "execution_count": 8,
   "metadata": {},
   "outputs": [],
   "source": [
    "α = 0.4 # original\n",
    "β = 0.1\n",
    "γ = 0.2 # original\n",
    "δ = 0.1\n",
    "ϵ = 0.001\n",
    "\n",
    "P_1 = np.array([\n",
    "    [1-α-β, α, β],\n",
    "    [γ, 1-γ, 0],\n",
    "    [δ, ϵ , 1-δ-ϵ]\n",
    "])"
   ]
  },
  {
   "cell_type": "code",
   "execution_count": 9,
   "metadata": {},
   "outputs": [],
   "source": [
    "def sta_dist(P):\n",
    "    '''\n",
    "    returns stationary distribution of transition matrix P\n",
    "    '''\n",
    "    n = len(P) # dimension of transition matrix\n",
    "    ψ_t = np.array([1/n]*n) # initialize distribution\n",
    "\n",
    "    while True:\n",
    "\n",
    "        ψ_prev = ψ_t.copy() # ψ_(t-1)\n",
    "        ψ_t = ψ_t@P # update ψ_t\n",
    "\n",
    "        if abs((ψ_t - ψ_prev)).sum()==0: # break if ψ_t == ψ_(t-1)\n",
    "            break\n",
    "\n",
    "    return ψ_t\n",
    "\n",
    "def eig_sta_dist(P):\n",
    "    '''\n",
    "    returns stationary distribution with eigen vector method\n",
    "    '''\n",
    "    n = np.shape(P)\n",
    "    w, v = np.linalg.eig(P.T) # compute eigen values and eigen vectors\n",
    "    tmp = v[:, np.isclose(w, 1)][:, 0] # take eigen vector of eignvalue 1\n",
    "    ψ_star = tmp / np.sum(tmp) # normalize vector so sums to 1\n",
    "\n",
    "    return ψ_star"
   ]
  },
  {
   "cell_type": "code",
   "execution_count": 10,
   "metadata": {},
   "outputs": [
    {
     "data": {
      "text/html": [
       "<div>\n",
       "<style scoped>\n",
       "    .dataframe tbody tr th:only-of-type {\n",
       "        vertical-align: middle;\n",
       "    }\n",
       "\n",
       "    .dataframe tbody tr th {\n",
       "        vertical-align: top;\n",
       "    }\n",
       "\n",
       "    .dataframe thead th {\n",
       "        text-align: right;\n",
       "    }\n",
       "</style>\n",
       "<table border=\"1\" class=\"dataframe\">\n",
       "  <thead>\n",
       "    <tr style=\"text-align: right;\">\n",
       "      <th></th>\n",
       "      <th>ψ_1</th>\n",
       "      <th>ψ_2</th>\n",
       "      <th>ψ_2 - ψ_1</th>\n",
       "    </tr>\n",
       "  </thead>\n",
       "  <tbody>\n",
       "    <tr>\n",
       "      <th>P(U) Unemployed</th>\n",
       "      <td>0.250310</td>\n",
       "      <td>0.273219</td>\n",
       "      <td>0.022909</td>\n",
       "    </tr>\n",
       "    <tr>\n",
       "      <th>P(E) Employed</th>\n",
       "      <td>0.501859</td>\n",
       "      <td>0.456267</td>\n",
       "      <td>-0.045592</td>\n",
       "    </tr>\n",
       "    <tr>\n",
       "      <th>P(D) Desperate</th>\n",
       "      <td>0.247831</td>\n",
       "      <td>0.270514</td>\n",
       "      <td>0.022683</td>\n",
       "    </tr>\n",
       "  </tbody>\n",
       "</table>\n",
       "</div>"
      ],
      "text/plain": [
       "                      ψ_1       ψ_2  ψ_2 - ψ_1\n",
       "P(U) Unemployed  0.250310  0.273219   0.022909\n",
       "P(E) Employed    0.501859  0.456267  -0.045592\n",
       "P(D) Desperate   0.247831  0.270514   0.022683"
      ]
     },
     "metadata": {},
     "output_type": "display_data"
    }
   ],
   "source": [
    "import pandas as pd\n",
    "\n",
    "# label state spaces\n",
    "state_space = {\n",
    "    0:'P(U) Unemployed',\n",
    "    1:'P(E) Employed',\n",
    "    2:'P(D) Desperate'\n",
    "}\n",
    "\n",
    "ψ_1 = sta_dist(P_1)\n",
    "ψ_2 = sta_dist(P_2)\n",
    "\n",
    "df = pd.DataFrame({'ψ_1':ψ_1, 'ψ_2':ψ_2}, index=[state_space[i] for i in range(3)])\n",
    "df['ψ_2 - ψ_1'] = df['ψ_2'] - df['ψ_1']\n",
    "display(df)"
   ]
  },
  {
   "cell_type": "markdown",
   "metadata": {},
   "source": [
    "**Finding:** Probabilities of unemployment and becoming desperate become higher with the exogenous policy change that results in $\\psi_2$."
   ]
  },
  {
   "cell_type": "markdown",
   "metadata": {},
   "source": [
    "### Q2.3\n",
    "Assume the economy starts at the previous stationary distribution $\\psi_{1}$. Time period is discrete and it starts from 0. Suppose the government policy takes place at period 4, i.e., the transitions between 0-1, 1-2, 2-3, 3-4 follow $P_{1}$, and the transition follows $P_{2}$ afterwards.\n",
    "\n",
    "Plot the evolution of these three states for $t=1, 2, \\ldots, 40$"
   ]
  },
  {
   "cell_type": "code",
   "execution_count": 11,
   "metadata": {},
   "outputs": [],
   "source": [
    "import matplotlib.pyplot as plt\n",
    "\n",
    "%matplotlib inline\n",
    "\n",
    "# label state spaces\n",
    "state_space = {\n",
    "    0:'(U)',\n",
    "    1:'(E)',\n",
    "    2:'(D)'\n",
    "}"
   ]
  },
  {
   "cell_type": "code",
   "execution_count": 12,
   "metadata": {},
   "outputs": [
    {
     "data": {
      "image/png": "[encoded data removed]",
      "text/plain": [
       "<Figure size 576x360 with 1 Axes>"
      ]
     },
     "metadata": {
      "needs_background": "light"
     },
     "output_type": "display_data"
    }
   ],
   "source": [
    "T = 40 # total periods\n",
    "\n",
    "ψ0 = ψ_1 # initial distribution is stationary ψ_1\n",
    "\n",
    "n = len(ψ0) # number of states\n",
    "ψ = np.zeros((T+1, n)) # initialize record of distributions\n",
    "ψ[0] = ψ0 # add initial distribution\n",
    "\n",
    "for t in range(1, T+1):\n",
    "    \n",
    "    if t < 4: # before period 4\n",
    "        ψ[t] = ψ[t-1] @ P_1 # update with old transition matrix P_1\n",
    "        \n",
    "    else: # after period 4\n",
    "        ψ[t] = ψ[t-1] @ P_2 # update with new transition matrix P_2\n",
    "          \n",
    "# plot\n",
    "plt.figure(figsize=(8, 5))\n",
    "\n",
    "plt.plot(range(1, T+1), ψ[1:], lw=6, alpha=0.8)\n",
    "\n",
    "plt.title('Evolution of Distribution $ψ_{t}$', fontsize=18)\n",
    "plt.xlabel('Period t', fontsize=14)\n",
    "plt.ylabel('Probability', fontsize=14)\n",
    "\n",
    "plt.legend([\n",
    "    f'$ψ_T{state_space[s]} = {ψ[-1, s]:.5f}$'\n",
    "    for s in range(3)\n",
    "], fontsize=12)\n",
    "\n",
    "plt.show()"
   ]
  }
 ],
 "metadata": {
  "kernelspec": {
   "display_name": "Python 3",
   "language": "python",
   "name": "python3"
  },
  "language_info": {
   "codemirror_mode": {
    "name": "ipython",
    "version": 3
   },
   "file_extension": ".py",
   "mimetype": "text/x-python",
   "name": "python",
   "nbconvert_exporter": "python",
   "pygments_lexer": "ipython3",
   "version": "3.8.5"
  }
 },
 "nbformat": 4,
 "nbformat_minor": 4
}
